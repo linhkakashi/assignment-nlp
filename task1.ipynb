{
 "cells": [
  {
   "cell_type": "code",
   "execution_count": 45,
   "metadata": {},
   "outputs": [],
   "source": [
    "import gensim\n",
    "import io\n",
    "import sys\n",
    "import numpy as np\n",
    "from scipy import spatial\n",
    "import matplotlib.pyplot as plt\n",
    "import math"
   ]
  },
  {
   "cell_type": "code",
   "execution_count": 46,
   "metadata": {},
   "outputs": [],
   "source": [
    "model = gensim.models.KeyedVectors.load_word2vec_format(\"Word2vec.vec\", binary=False)"
   ]
  },
  {
   "cell_type": "code",
   "execution_count": 47,
   "metadata": {},
   "outputs": [],
   "source": [
    "def read_file(link_file):\n",
    "    f = open(link_file, encoding='utf-8')\n",
    "    return f.readlines()[1:]\n",
    "\n",
    "def get_cosine_distance(u, v):\n",
    "    uv = sum([u[i]*v[i] for i in range(len(u))])\n",
    "    norm_u = math.sqrt(sum([u[i]*u[i] for i in range(len(u))]))\n",
    "    norm_v = math.sqrt(sum([v[i]*v[i] for i in range(len(v))]))\n",
    "    return uv/(norm_u*norm_v)\n",
    "\n",
    "def get_dice_distance(u, v):\n",
    "    sum_min_uv = sum([min(u[i],v[i]) for i in range(len(u))])\n",
    "    sum_u_plus_v = sum([u[i]+v[i] for i in range(len(u))])\n",
    "    \n",
    "    return 2.0*sum_min_uv/sum_u_plus_v"
   ]
  },
  {
   "cell_type": "code",
   "execution_count": 48,
   "metadata": {},
   "outputs": [],
   "source": [
    "noun_pairs_dataset = read_file(\"datasets/ViCon-400/400_noun_pairs.txt\")\n",
    "verb_pairs_dataset = read_file(\"datasets/ViCon-400/400_verb_pairs.txt\")\n",
    "adj_pairs_dataset = read_file(\"datasets/ViCon-400/600_adj_pairs.txt\")"
   ]
  },
  {
   "cell_type": "code",
   "execution_count": 49,
   "metadata": {},
   "outputs": [],
   "source": [
    "def measure_word_similar(dataset, distance_type): #distance_type: COSINE OR DICE\n",
    "    results=[]\n",
    "    error=0\n",
    "    for line in dataset:\n",
    "        words = line.split()\n",
    "        words1 = words[0].strip() #get word from dataset\n",
    "        words2 = words[1].strip()\n",
    "        try:\n",
    "            vector1 = model[words1] #get vector of word\n",
    "            vector2 = model[words2]\n",
    "            if distance_type == \"DICE\":\n",
    "                distance = get_dice_distance(vector1, vector2)\n",
    "            elif distance_type == \"COSINE\":\n",
    "                distance = get_cosine_distance(vector1, vector2)\n",
    "            results.append(distance)\n",
    "        except:\n",
    "            error += 1\n",
    "    return results"
   ]
  },
  {
   "cell_type": "code",
   "execution_count": 50,
   "metadata": {},
   "outputs": [],
   "source": [
    "result_noun_pairs_dataset = measure_word_similar(noun_pairs_dataset, \"DICE\")\n",
    "result_verb_pairs_dataset = measure_word_similar(verb_pairs_dataset, \"DICE\")\n",
    "result_adj_pairs_dataset = measure_word_similar(adj_pairs_dataset, \"DICE\")\n",
    "result_cosine_noun_pairs_dataset = measure_word_similar(noun_pairs_dataset, \"COSINE\")\n",
    "result_cosine_verb_pairs_dataset = measure_word_similar(verb_pairs_dataset, \"COSINE\")\n",
    "result_cosine_adj_pairs_dataset = measure_word_similar(adj_pairs_dataset, \"COSINE\")"
   ]
  }
 ],
 "metadata": {
  "kernelspec": {
   "display_name": "Python 3",
   "language": "python",
   "name": "python3"
  },
  "language_info": {
   "codemirror_mode": {
    "name": "ipython",
    "version": 3
   },
   "file_extension": ".py",
   "mimetype": "text/x-python",
   "name": "python",
   "nbconvert_exporter": "python",
   "pygments_lexer": "ipython3",
   "version": "3.6.8"
  }
 },
 "nbformat": 4,
 "nbformat_minor": 2
}
