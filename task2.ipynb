{
 "cells": [
  {
   "cell_type": "code",
   "execution_count": 1,
   "metadata": {},
   "outputs": [],
   "source": [
    "import gensim\n",
    "import io\n",
    "import sys\n",
    "import numpy as np\n",
    "from scipy import spatial\n",
    "import matplotlib.pyplot as plt\n",
    "import math"
   ]
  },
  {
   "cell_type": "code",
   "execution_count": 25,
   "metadata": {},
   "outputs": [],
   "source": [
    "model = gensim.models.KeyedVectors.load_word2vec_format(\"Word2vec.vec\", binary=False)\n",
    "all_words = list(model.vocab.keys())"
   ]
  },
  {
   "cell_type": "code",
   "execution_count": 76,
   "metadata": {},
   "outputs": [],
   "source": [
    "def read_file(link_file):\n",
    "    f = open(link_file, encoding='utf-8')\n",
    "    return f.readlines()[1:]\n",
    "\n",
    "def get_cosine_distance(u, v):\n",
    "    uv = sum([u[i]*v[i] for i in range(len(u))])\n",
    "    norm_u = math.sqrt(sum([u[i]*u[i] for i in range(len(u))]))\n",
    "    norm_v = math.sqrt(sum([v[i]*v[i] for i in range(len(v))]))\n",
    "    return 1 - uv/(norm_u*norm_v)\n",
    "\n",
    "def get_dice_distance(u, v):\n",
    "    sum_min_uv = sum([min(u[i],v[i]) for i in range(len(u))])\n",
    "    sum_u_plus_v = sum([u[i]+v[i] for i in range(len(u))])\n",
    "    \n",
    "    return 2.0*sum_min_uv/sum_u_plus_v\n",
    "\n",
    "def find_k_nearest(word, k, distance_type):\n",
    "    try:\n",
    "        vector = model[word]\n",
    "        distance_to_all_words=[]\n",
    "        for w in all_words:\n",
    "            v = model[w]\n",
    "            distance = get_dice_distance(vector, v) if distance_type == \"DICE\" else get_cosine_distance(vector, v)\n",
    "            distance_to_all_words.append(distance)\n",
    "        print(\"123\")\n",
    "        index_word = list(range(len(all_words)))\n",
    "        sorted_distance, index_word = zip(*sorted(zip(distance_to_all_words, index_word)))\n",
    "\n",
    "        similar_words=[]\n",
    "        for i in range(1, k+1):\n",
    "            similar_words.append(all_words[index_word[i]])\n",
    "        print(similar_words)\n",
    "     \n",
    "            \n",
    "    except:\n",
    "        print(\"Not found in diction\")"
   ]
  },
  {
   "cell_type": "code",
   "execution_count": 77,
   "metadata": {},
   "outputs": [
    {
     "name": "stdout",
     "output_type": "stream",
     "text": [
      "123\n",
      "['viên_nam', 'cocaine', 'lãi_ròng']\n",
      "123\n",
      "['béc_giê', 'khỉ', 'mèo']\n"
     ]
    }
   ],
   "source": [
    "find_k_nearest(\"mèo\", 3, \"DICE\")\n",
    "find_k_nearest(\"chó\", 3, \"COSINE\")"
   ]
  },
  {
   "cell_type": "code",
   "execution_count": null,
   "metadata": {},
   "outputs": [],
   "source": []
  }
 ],
 "metadata": {
  "kernelspec": {
   "display_name": "Python 3",
   "language": "python",
   "name": "python3"
  },
  "language_info": {
   "codemirror_mode": {
    "name": "ipython",
    "version": 3
   },
   "file_extension": ".py",
   "mimetype": "text/x-python",
   "name": "python",
   "nbconvert_exporter": "python",
   "pygments_lexer": "ipython3",
   "version": "3.6.8"
  }
 },
 "nbformat": 4,
 "nbformat_minor": 2
}
